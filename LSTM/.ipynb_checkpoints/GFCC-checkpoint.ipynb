{
 "cells": [
  {
   "cell_type": "code",
   "execution_count": 0,
   "metadata": {
    "colab": {},
    "colab_type": "code",
    "id": "Bahao5yhVVDJ"
   },
   "outputs": [],
   "source": []
  },
  {
   "cell_type": "code",
   "execution_count": 1,
   "metadata": {
    "colab": {
     "base_uri": "https://localhost:8080/",
     "height": 122
    },
    "colab_type": "code",
    "id": "2WM9-3BVVYno",
    "outputId": "f302b756-6cd5-47ed-b588-bc1436792497"
   },
   "outputs": [
    {
     "name": "stdout",
     "output_type": "stream",
     "text": [
      "Go to this URL in a browser: https://accounts.google.com/o/oauth2/auth?client_id=947318989803-6bn6qk8qdgf4n4g3pfee6491hc0brc4i.apps.googleusercontent.com&redirect_uri=urn%3aietf%3awg%3aoauth%3a2.0%3aoob&response_type=code&scope=email%20https%3a%2f%2fwww.googleapis.com%2fauth%2fdocs.test%20https%3a%2f%2fwww.googleapis.com%2fauth%2fdrive%20https%3a%2f%2fwww.googleapis.com%2fauth%2fdrive.photos.readonly%20https%3a%2f%2fwww.googleapis.com%2fauth%2fpeopleapi.readonly\n",
      "\n",
      "Enter your authorization code:\n",
      "··········\n",
      "Mounted at /content/drive\n"
     ]
    }
   ],
   "source": [
    "from google.colab import drive\n",
    "drive.mount('/content/drive')"
   ]
  },
  {
   "cell_type": "code",
   "execution_count": 3,
   "metadata": {
    "colab": {
     "base_uri": "https://localhost:8080/",
     "height": 173
    },
    "colab_type": "code",
    "id": "Djm1Xpf2Voyw",
    "outputId": "6f00d99f-eafb-474a-e67d-a570037a1591"
   },
   "outputs": [
    {
     "name": "stdout",
     "output_type": "stream",
     "text": [
      "Collecting essentia\n",
      "\u001b[?25l  Downloading https://files.pythonhosted.org/packages/99/dc/cac5d1fa53146f7efac3b35655b33cb002b905fd5d1c700c651d1726b140/essentia-2.1b5-cp36-cp36m-manylinux1_x86_64.whl (11.1MB)\n",
      "\u001b[K     |████████████████████████████████| 11.1MB 208kB/s \n",
      "\u001b[?25hRequirement already satisfied: pyyaml in /usr/local/lib/python3.6/dist-packages (from essentia) (3.13)\n",
      "Requirement already satisfied: numpy>=1.8.2 in /usr/local/lib/python3.6/dist-packages (from essentia) (1.17.4)\n",
      "Requirement already satisfied: six in /usr/local/lib/python3.6/dist-packages (from essentia) (1.12.0)\n",
      "Installing collected packages: essentia\n",
      "Successfully installed essentia-2.1b5\n"
     ]
    }
   ],
   "source": [
    "!pip install essentia"
   ]
  },
  {
   "cell_type": "code",
   "execution_count": 0,
   "metadata": {
    "colab": {},
    "colab_type": "code",
    "id": "3ed6qMJYVZEH"
   },
   "outputs": [],
   "source": [
    "!unzip /content/drive/My\\ Drive/data/o.zip\n",
    "!unzip /content/drive/My\\ Drive/data/other.zip\n",
    "!unzip /content/drive/My\\ Drive/data/w1.zip\n",
    "!unzip /content/drive/My\\ Drive/data/wheeze2.zip\n",
    "!unzip /content/drive/My\\ Drive/data/wheeze_and_crackle.zip"
   ]
  },
  {
   "cell_type": "code",
   "execution_count": 5,
   "metadata": {
    "colab": {
     "base_uri": "https://localhost:8080/",
     "height": 34
    },
    "colab_type": "code",
    "id": "qIAqUbbxVx3o",
    "outputId": "bed025e4-fb7b-427f-f81d-29e76a20cd68"
   },
   "outputs": [
    {
     "name": "stderr",
     "output_type": "stream",
     "text": [
      "Using TensorFlow backend.\n"
     ]
    }
   ],
   "source": [
    "from sklearn.metrics import confusion_matrix\n",
    "from sklearn.model_selection import KFold\n",
    "from keras.models import Sequential\n",
    "from keras.layers import Dense, Dropout, Flatten\n",
    "from keras.layers import Conv2D, MaxPooling2D\n",
    "import keras\n",
    "from keras.models import Sequential\n",
    "from keras.layers import LSTM\n",
    "from keras.layers import Dense\n",
    "import keras\n",
    "from keras.layers import Dropout\n",
    "from keras.layers import Activation\n",
    "from shutil import copyfile\n",
    "import gc\n",
    "import os\n",
    "import numpy as np\n",
    "import scipy.io.wavfile as wav\n",
    "import scipy.signal as signal\n",
    "from scipy import stats\n",
    "from essentia.standard import *\n",
    "from sklearn.model_selection import train_test_split"
   ]
  },
  {
   "cell_type": "code",
   "execution_count": 0,
   "metadata": {
    "colab": {},
    "colab_type": "code",
    "id": "pWRPwCLKVj8-"
   },
   "outputs": [],
   "source": [
    "w = Windowing(type = 'hann')\n",
    "spectrum = Spectrum()\n",
    "gfcc = GFCC(highFrequencyBound = 8000, numberCoefficients = 40, sampleRate = 16000)\n",
    "def get_feature(data):\n",
    "  gfccs = []\n",
    "  for frame in FrameGenerator(data, frameSize=1024, hopSize=512, startFromZero=True):\n",
    "    gfcc_bands, mfcc_coeffs = mfcc(spectrum(w(frame)))\n",
    "    gfccs.append(mfcc_coeffs)\n",
    "  return np.asarray(gfccs)\n",
    "def get_mfcc_all(dirs, X, Y, idx):\n",
    "  for i in range(len(dirs)):\n",
    "    dir = dirs[i] + \"/\"\n",
    "    for filename in os.listdir(dir):\n",
    "      try:\n",
    "        rate, data = wav.read(dir + filename)\n",
    "        test = [0]\n",
    "        test[0] = idx[i]\n",
    "        if idx[i] == 0:\n",
    "          for t in range(0, 20):\n",
    "            X.append(get_feature(np.roll(data, t * len(data)//20)))\n",
    "            Y.append(test)\n",
    "        elif idx[i] == 1:\n",
    "          for t in range(0, 4):\n",
    "            X.append(get_feature(np.roll(data, t * len(data)//4)))\n",
    "            Y.append(test)\n",
    "      except Exception as e:\n",
    "        print(e)"
   ]
  },
  {
   "cell_type": "code",
   "execution_count": 0,
   "metadata": {
    "colab": {},
    "colab_type": "code",
    "id": "LkRH4QaJVwl6"
   },
   "outputs": [],
   "source": [
    "dirs = [\"/content/wheeze2/wheeze\", \"/content/other\", \"/content/w\", \"/content/wheeze_and_crackle\", \"/content/o\"]\n",
    "labels = [0, 1, 0, 0, 1]\n",
    "X = []\n",
    "y = []\n",
    "get_feature_all(dirs,X, y, labels )"
   ]
  },
  {
   "cell_type": "code",
   "execution_count": 0,
   "metadata": {
    "colab": {},
    "colab_type": "code",
    "id": "3jKv6GEHYvgB"
   },
   "outputs": [],
   "source": [
    "X = np.asarray(X)\n",
    "y = np.asarray(y)\n",
    "X1 = X\n",
    "X = stats.zscore(X)"
   ]
  },
  {
   "cell_type": "code",
   "execution_count": 0,
   "metadata": {
    "colab": {},
    "colab_type": "code",
    "id": "mk1nlrQdY5Qk"
   },
   "outputs": [],
   "source": [
    "def create_model():\n",
    "  model = Sequential()\n",
    "  model.add(LSTM(64, return_sequences=True, input_shape=(93, 40)))\n",
    "  model.add(LSTM(64))\n",
    "  model.add(Dense(1, activation = \"sigmoid\"))\n",
    "  model.compile(loss='binary_crossentropy', optimizer= \"adam\", metrics=['accuracy'])\n",
    "  return model"
   ]
  },
  {
   "cell_type": "code",
   "execution_count": 0,
   "metadata": {
    "colab": {},
    "colab_type": "code",
    "id": "nC2FFufelMiO"
   },
   "outputs": [],
   "source": [
    "def train(X_aug, y_aug, epochs = 40):\n",
    "  i = 1\n",
    "  for train_index, test_index in kf.split(X_aug):\n",
    "    print(\"Cross Valid: \" + str(i))\n",
    "    model = create_model()\n",
    "    model.fit(X_aug[train_index], y_aug[train_index], epochs = epochs, batch_size = 64, verbose = 0)\n",
    "    y_pred = model.predict(X_aug[test_index])\n",
    "    y_pred = [1 * (x[0]>=0.5) for x in y_pred]\n",
    "    print(confusion_matrix(y_aug[test_index], y_pred))\n",
    "    gc.collect()\n",
    "    i += 1"
   ]
  },
  {
   "cell_type": "code",
   "execution_count": null,
   "metadata": {},
   "outputs": [],
   "source": [
    "#use same randomstate 28\n",
    "kf = KFold(n_splits=5, shuffle= True, random_state=28)"
   ]
  },
  {
   "cell_type": "code",
   "execution_count": 27,
   "metadata": {
    "colab": {
     "base_uri": "https://localhost:8080/",
     "height": 1000
    },
    "colab_type": "code",
    "id": "OjNBtVX4muUT",
    "outputId": "0ddf10dc-48d9-41a7-8a27-1b1fde53da22"
   },
   "outputs": [
    {
     "name": "stdout",
     "output_type": "stream",
     "text": [
      "Cross Valid: 1\n",
      "Epoch 1/35\n",
      "24739/24739 [==============================] - 81s 3ms/step - loss: 0.3538 - acc: 0.8472\n",
      "Epoch 2/35\n",
      "24739/24739 [==============================] - 78s 3ms/step - loss: 0.1814 - acc: 0.9341\n",
      "Epoch 3/35\n",
      "24739/24739 [==============================] - 78s 3ms/step - loss: 0.1052 - acc: 0.9658\n",
      "Epoch 4/35\n",
      "24739/24739 [==============================] - 78s 3ms/step - loss: 0.0827 - acc: 0.9737\n",
      "Epoch 5/35\n",
      "24739/24739 [==============================] - 78s 3ms/step - loss: 0.0579 - acc: 0.9820\n",
      "Epoch 6/35\n",
      "24739/24739 [==============================] - 78s 3ms/step - loss: 0.0394 - acc: 0.9886\n",
      "Epoch 7/35\n",
      "24739/24739 [==============================] - 78s 3ms/step - loss: 0.0410 - acc: 0.9886\n",
      "Epoch 8/35\n",
      "24739/24739 [==============================] - 78s 3ms/step - loss: 0.0581 - acc: 0.9817\n",
      "Epoch 9/35\n",
      "24739/24739 [==============================] - 78s 3ms/step - loss: 0.0311 - acc: 0.9904\n",
      "Epoch 10/35\n",
      "24739/24739 [==============================] - 78s 3ms/step - loss: 0.0236 - acc: 0.9935\n",
      "Epoch 11/35\n",
      "24739/24739 [==============================] - 77s 3ms/step - loss: 0.0130 - acc: 0.9973\n",
      "Epoch 12/35\n",
      "24739/24739 [==============================] - 78s 3ms/step - loss: 0.0186 - acc: 0.9953\n",
      "Epoch 13/35\n",
      "24739/24739 [==============================] - 78s 3ms/step - loss: 0.0147 - acc: 0.9962\n",
      "Epoch 14/35\n",
      "24739/24739 [==============================] - 78s 3ms/step - loss: 0.0129 - acc: 0.9966\n",
      "Epoch 15/35\n",
      "24739/24739 [==============================] - 78s 3ms/step - loss: 0.0063 - acc: 0.9984\n",
      "Epoch 16/35\n",
      "24739/24739 [==============================] - 78s 3ms/step - loss: 0.0127 - acc: 0.9962\n",
      "Epoch 17/35\n",
      "24739/24739 [==============================] - 80s 3ms/step - loss: 0.0088 - acc: 0.9977\n",
      "Epoch 18/35\n",
      "24739/24739 [==============================] - 79s 3ms/step - loss: 0.0061 - acc: 0.9985\n",
      "Epoch 19/35\n",
      "24739/24739 [==============================] - 78s 3ms/step - loss: 0.0439 - acc: 0.9854\n",
      "Epoch 20/35\n",
      "24739/24739 [==============================] - 78s 3ms/step - loss: 0.0152 - acc: 0.9954\n",
      "Epoch 21/35\n",
      "24739/24739 [==============================] - 78s 3ms/step - loss: 0.0046 - acc: 0.9984\n",
      "Epoch 22/35\n",
      "24739/24739 [==============================] - 78s 3ms/step - loss: 0.0076 - acc: 0.9980\n",
      "Epoch 23/35\n",
      "24739/24739 [==============================] - 78s 3ms/step - loss: 0.0108 - acc: 0.9969\n",
      "Epoch 24/35\n",
      "24739/24739 [==============================] - 78s 3ms/step - loss: 0.0047 - acc: 0.9986\n",
      "Epoch 25/35\n",
      "24739/24739 [==============================] - 77s 3ms/step - loss: 0.0027 - acc: 0.9994\n",
      "Epoch 26/35\n",
      "24739/24739 [==============================] - 78s 3ms/step - loss: 0.0169 - acc: 0.9956\n",
      "Epoch 27/35\n",
      "24739/24739 [==============================] - 78s 3ms/step - loss: 0.0109 - acc: 0.9974\n",
      "Epoch 28/35\n",
      "24739/24739 [==============================] - 78s 3ms/step - loss: 0.0033 - acc: 0.9991\n",
      "Epoch 29/35\n",
      "24739/24739 [==============================] - 78s 3ms/step - loss: 0.0030 - acc: 0.9996\n",
      "Epoch 30/35\n",
      "24739/24739 [==============================] - 78s 3ms/step - loss: 0.0111 - acc: 0.9975\n",
      "Epoch 31/35\n",
      "24739/24739 [==============================] - 77s 3ms/step - loss: 0.0023 - acc: 0.9994\n",
      "Epoch 32/35\n",
      "24739/24739 [==============================] - 78s 3ms/step - loss: 0.0077 - acc: 0.9982\n",
      "Epoch 33/35\n",
      "24739/24739 [==============================] - 78s 3ms/step - loss: 5.6384e-04 - acc: 0.9999\n",
      "Epoch 34/35\n",
      "24739/24739 [==============================] - 78s 3ms/step - loss: 1.5086e-04 - acc: 1.0000\n",
      "Epoch 35/35\n",
      "24739/24739 [==============================] - 79s 3ms/step - loss: 6.2439e-05 - acc: 1.0000\n",
      "[[3035    2]\n",
      " [   1 3147]]\n",
      "Cross Valid: 2\n",
      "Epoch 1/35\n",
      "24739/24739 [==============================] - 80s 3ms/step - loss: 0.2903 - acc: 0.8803\n",
      "Epoch 2/35\n",
      "24739/24739 [==============================] - 77s 3ms/step - loss: 0.1033 - acc: 0.9658\n",
      "Epoch 3/35\n",
      "24739/24739 [==============================] - 77s 3ms/step - loss: 0.0599 - acc: 0.9809\n",
      "Epoch 4/35\n",
      "24739/24739 [==============================] - 78s 3ms/step - loss: 0.0404 - acc: 0.9873\n",
      "Epoch 5/35\n",
      "24739/24739 [==============================] - 77s 3ms/step - loss: 0.0286 - acc: 0.9914\n",
      "Epoch 6/35\n",
      "24739/24739 [==============================] - 76s 3ms/step - loss: 0.0281 - acc: 0.9921\n",
      "Epoch 7/35\n",
      "24739/24739 [==============================] - 77s 3ms/step - loss: 0.0120 - acc: 0.9968\n",
      "Epoch 8/35\n",
      "24739/24739 [==============================] - 78s 3ms/step - loss: 0.0176 - acc: 0.9952\n",
      "Epoch 9/35\n",
      "24739/24739 [==============================] - 77s 3ms/step - loss: 0.0154 - acc: 0.9955\n",
      "Epoch 10/35\n",
      "24739/24739 [==============================] - 77s 3ms/step - loss: 0.0126 - acc: 0.9967\n",
      "Epoch 11/35\n",
      "24739/24739 [==============================] - 77s 3ms/step - loss: 0.0175 - acc: 0.9956\n",
      "Epoch 12/35\n",
      "24739/24739 [==============================] - 79s 3ms/step - loss: 0.0026 - acc: 0.9996\n",
      "Epoch 13/35\n",
      "24739/24739 [==============================] - 77s 3ms/step - loss: 0.0022 - acc: 0.9995\n",
      "Epoch 14/35\n",
      "24739/24739 [==============================] - 77s 3ms/step - loss: 0.0177 - acc: 0.9955\n",
      "Epoch 15/35\n",
      "24739/24739 [==============================] - 77s 3ms/step - loss: 0.0115 - acc: 0.9967\n",
      "Epoch 16/35\n",
      "24739/24739 [==============================] - 77s 3ms/step - loss: 0.0054 - acc: 0.9987\n",
      "Epoch 17/35\n",
      "24739/24739 [==============================] - 77s 3ms/step - loss: 0.0029 - acc: 0.9992\n",
      "Epoch 18/35\n",
      "24739/24739 [==============================] - 78s 3ms/step - loss: 4.5642e-04 - acc: 0.9999\n",
      "Epoch 19/35\n",
      "24739/24739 [==============================] - 79s 3ms/step - loss: 0.0057 - acc: 0.9988\n",
      "Epoch 20/35\n",
      "24739/24739 [==============================] - 79s 3ms/step - loss: 0.0171 - acc: 0.9952\n",
      "Epoch 21/35\n",
      "24739/24739 [==============================] - 76s 3ms/step - loss: 0.0124 - acc: 0.9968\n",
      "Epoch 22/35\n",
      "24739/24739 [==============================] - 76s 3ms/step - loss: 0.0020 - acc: 0.9995\n",
      "Epoch 23/35\n",
      "24739/24739 [==============================] - 77s 3ms/step - loss: 0.0046 - acc: 0.9990\n",
      "Epoch 24/35\n",
      "24739/24739 [==============================] - 77s 3ms/step - loss: 2.0632e-04 - acc: 1.0000\n",
      "Epoch 25/35\n",
      "24739/24739 [==============================] - 77s 3ms/step - loss: 9.0826e-05 - acc: 1.0000\n",
      "Epoch 26/35\n",
      "24739/24739 [==============================] - 76s 3ms/step - loss: 5.1122e-05 - acc: 1.0000\n",
      "Epoch 27/35\n",
      "24739/24739 [==============================] - 76s 3ms/step - loss: 3.3741e-05 - acc: 1.0000\n",
      "Epoch 28/35\n",
      "24739/24739 [==============================] - 76s 3ms/step - loss: 2.3619e-05 - acc: 1.0000\n",
      "Epoch 29/35\n",
      "24739/24739 [==============================] - 76s 3ms/step - loss: 1.7354e-05 - acc: 1.0000\n",
      "Epoch 30/35\n",
      "24739/24739 [==============================] - 79s 3ms/step - loss: 1.3391e-05 - acc: 1.0000\n",
      "Epoch 31/35\n",
      "24739/24739 [==============================] - 77s 3ms/step - loss: 1.0294e-05 - acc: 1.0000\n",
      "Epoch 32/35\n",
      "24739/24739 [==============================] - 80s 3ms/step - loss: 8.0968e-06 - acc: 1.0000\n",
      "Epoch 33/35\n",
      "24739/24739 [==============================] - 76s 3ms/step - loss: 6.4281e-06 - acc: 1.0000\n",
      "Epoch 34/35\n",
      "24739/24739 [==============================] - 81s 3ms/step - loss: 5.1450e-06 - acc: 1.0000\n",
      "Epoch 35/35\n",
      "24739/24739 [==============================] - 81s 3ms/step - loss: 4.1277e-06 - acc: 1.0000\n",
      "[[3074    1]\n",
      " [   3 3107]]\n",
      "Cross Valid: 3\n",
      "Epoch 1/35\n",
      "24739/24739 [==============================] - 80s 3ms/step - loss: 0.2905 - acc: 0.8750\n",
      "Epoch 2/35\n",
      "24739/24739 [==============================] - 77s 3ms/step - loss: 0.0955 - acc: 0.9682\n",
      "Epoch 3/35\n",
      "24739/24739 [==============================] - 77s 3ms/step - loss: 0.0558 - acc: 0.9823\n",
      "Epoch 4/35\n",
      "24739/24739 [==============================] - 77s 3ms/step - loss: 0.0315 - acc: 0.9893\n",
      "Epoch 5/35\n",
      "24739/24739 [==============================] - 77s 3ms/step - loss: 0.0242 - acc: 0.9930\n",
      "Epoch 6/35\n",
      "24739/24739 [==============================] - 76s 3ms/step - loss: 0.0236 - acc: 0.9924\n",
      "Epoch 7/35\n",
      "24739/24739 [==============================] - 77s 3ms/step - loss: 0.0153 - acc: 0.9951\n",
      "Epoch 8/35\n",
      "24739/24739 [==============================] - 76s 3ms/step - loss: 0.0090 - acc: 0.9972\n",
      "Epoch 9/35\n",
      "24739/24739 [==============================] - 76s 3ms/step - loss: 0.0105 - acc: 0.9974\n",
      "Epoch 10/35\n",
      "24739/24739 [==============================] - 76s 3ms/step - loss: 0.0313 - acc: 0.9918\n",
      "Epoch 11/35\n",
      "24739/24739 [==============================] - 76s 3ms/step - loss: 0.0134 - acc: 0.9958\n",
      "Epoch 12/35\n",
      "24739/24739 [==============================] - 77s 3ms/step - loss: 0.0098 - acc: 0.9975\n",
      "Epoch 13/35\n",
      "24739/24739 [==============================] - 76s 3ms/step - loss: 0.0052 - acc: 0.9987\n",
      "Epoch 14/35\n",
      "24739/24739 [==============================] - 76s 3ms/step - loss: 0.0075 - acc: 0.9977\n",
      "Epoch 15/35\n",
      "24739/24739 [==============================] - 76s 3ms/step - loss: 0.0087 - acc: 0.9977\n",
      "Epoch 16/35\n",
      "24739/24739 [==============================] - 76s 3ms/step - loss: 0.0030 - acc: 0.9992\n",
      "Epoch 17/35\n",
      "24739/24739 [==============================] - 76s 3ms/step - loss: 2.3101e-04 - acc: 1.0000\n",
      "Epoch 18/35\n",
      "24739/24739 [==============================] - 77s 3ms/step - loss: 9.4239e-05 - acc: 1.0000\n",
      "Epoch 19/35\n",
      "24739/24739 [==============================] - 76s 3ms/step - loss: 5.1080e-05 - acc: 1.0000\n",
      "Epoch 20/35\n",
      "24739/24739 [==============================] - 76s 3ms/step - loss: 3.5245e-05 - acc: 1.0000\n",
      "Epoch 21/35\n",
      "24739/24739 [==============================] - 76s 3ms/step - loss: 2.6412e-05 - acc: 1.0000\n",
      "Epoch 22/35\n",
      "24739/24739 [==============================] - 76s 3ms/step - loss: 1.8063e-05 - acc: 1.0000\n",
      "Epoch 23/35\n",
      "24739/24739 [==============================] - 77s 3ms/step - loss: 1.3098e-05 - acc: 1.0000\n",
      "Epoch 24/35\n",
      "24739/24739 [==============================] - 76s 3ms/step - loss: 9.9939e-06 - acc: 1.0000\n",
      "Epoch 25/35\n",
      "24739/24739 [==============================] - 77s 3ms/step - loss: 7.7725e-06 - acc: 1.0000\n",
      "Epoch 26/35\n",
      "24739/24739 [==============================] - 76s 3ms/step - loss: 6.1228e-06 - acc: 1.0000\n",
      "Epoch 27/35\n",
      "24739/24739 [==============================] - 76s 3ms/step - loss: 4.8474e-06 - acc: 1.0000\n",
      "Epoch 28/35\n",
      "24739/24739 [==============================] - 76s 3ms/step - loss: 3.8900e-06 - acc: 1.0000\n",
      "Epoch 29/35\n",
      "24739/24739 [==============================] - 76s 3ms/step - loss: 3.1212e-06 - acc: 1.0000\n",
      "Epoch 30/35\n",
      "24739/24739 [==============================] - 76s 3ms/step - loss: 2.5213e-06 - acc: 1.0000\n",
      "Epoch 31/35\n",
      "24739/24739 [==============================] - 76s 3ms/step - loss: 2.0523e-06 - acc: 1.0000\n",
      "Epoch 32/35\n",
      "24739/24739 [==============================] - 76s 3ms/step - loss: 1.6760e-06 - acc: 1.0000\n",
      "Epoch 33/35\n",
      "24739/24739 [==============================] - 76s 3ms/step - loss: 1.3576e-06 - acc: 1.0000\n",
      "Epoch 34/35\n",
      "24739/24739 [==============================] - 76s 3ms/step - loss: 1.1038e-06 - acc: 1.0000\n",
      "Epoch 35/35\n",
      "24739/24739 [==============================] - 76s 3ms/step - loss: 9.0116e-07 - acc: 1.0000\n",
      "[[3135    3]\n",
      " [   8 3039]]\n",
      "Cross Valid: 4\n",
      "Epoch 1/35\n",
      "24739/24739 [==============================] - 81s 3ms/step - loss: 0.3387 - acc: 0.8642\n",
      "Epoch 2/35\n",
      "24739/24739 [==============================] - 77s 3ms/step - loss: 0.1554 - acc: 0.9472\n",
      "Epoch 3/35\n",
      "24739/24739 [==============================] - 76s 3ms/step - loss: 0.0917 - acc: 0.9718\n",
      "Epoch 4/35\n",
      "24739/24739 [==============================] - 76s 3ms/step - loss: 0.0480 - acc: 0.9856\n",
      "Epoch 5/35\n",
      "24739/24739 [==============================] - 76s 3ms/step - loss: 0.0348 - acc: 0.9895\n",
      "Epoch 6/35\n",
      "24739/24739 [==============================] - 76s 3ms/step - loss: 0.0241 - acc: 0.9926\n",
      "Epoch 7/35\n",
      "24739/24739 [==============================] - 76s 3ms/step - loss: 0.0269 - acc: 0.9912\n",
      "Epoch 8/35\n",
      "24739/24739 [==============================] - 76s 3ms/step - loss: 0.0382 - acc: 0.9883\n",
      "Epoch 9/35\n",
      "24739/24739 [==============================] - 76s 3ms/step - loss: 0.0172 - acc: 0.9951\n",
      "Epoch 10/35\n",
      "24739/24739 [==============================] - 77s 3ms/step - loss: 0.0084 - acc: 0.9974\n",
      "Epoch 11/35\n",
      "24739/24739 [==============================] - 77s 3ms/step - loss: 0.0053 - acc: 0.9987\n",
      "Epoch 12/35\n",
      "24739/24739 [==============================] - 77s 3ms/step - loss: 0.0092 - acc: 0.9980\n",
      "Epoch 13/35\n",
      "24739/24739 [==============================] - 76s 3ms/step - loss: 0.0083 - acc: 0.9977\n",
      "Epoch 14/35\n",
      "24739/24739 [==============================] - 77s 3ms/step - loss: 0.0022 - acc: 0.9995\n",
      "Epoch 15/35\n",
      "24739/24739 [==============================] - 79s 3ms/step - loss: 0.0209 - acc: 0.9940\n",
      "Epoch 16/35\n",
      "24739/24739 [==============================] - 77s 3ms/step - loss: 0.0090 - acc: 0.9975\n",
      "Epoch 17/35\n",
      "24739/24739 [==============================] - 77s 3ms/step - loss: 0.0065 - acc: 0.9982\n",
      "Epoch 18/35\n",
      "24739/24739 [==============================] - 77s 3ms/step - loss: 0.0093 - acc: 0.9979\n",
      "Epoch 19/35\n",
      "24739/24739 [==============================] - 76s 3ms/step - loss: 7.1462e-04 - acc: 0.9998\n",
      "Epoch 20/35\n",
      "24739/24739 [==============================] - 76s 3ms/step - loss: 0.0152 - acc: 0.9960\n",
      "Epoch 21/35\n",
      "24739/24739 [==============================] - 77s 3ms/step - loss: 0.0040 - acc: 0.9991\n",
      "Epoch 22/35\n",
      "24739/24739 [==============================] - 76s 3ms/step - loss: 0.0052 - acc: 0.9989\n",
      "Epoch 23/35\n",
      "24739/24739 [==============================] - 76s 3ms/step - loss: 0.0147 - acc: 0.9958\n",
      "Epoch 24/35\n",
      "24739/24739 [==============================] - 76s 3ms/step - loss: 0.0090 - acc: 0.9973\n",
      "Epoch 25/35\n",
      "24739/24739 [==============================] - 76s 3ms/step - loss: 0.0021 - acc: 0.9994\n",
      "Epoch 26/35\n",
      "24739/24739 [==============================] - 76s 3ms/step - loss: 0.0015 - acc: 0.9997\n",
      "Epoch 27/35\n",
      "24739/24739 [==============================] - 76s 3ms/step - loss: 4.0593e-04 - acc: 0.9999\n",
      "Epoch 28/35\n",
      "24739/24739 [==============================] - 76s 3ms/step - loss: 9.2874e-05 - acc: 1.0000\n",
      "Epoch 29/35\n",
      "24739/24739 [==============================] - 76s 3ms/step - loss: 0.0178 - acc: 0.9949\n",
      "Epoch 30/35\n",
      "24739/24739 [==============================] - 77s 3ms/step - loss: 0.0064 - acc: 0.9983\n",
      "Epoch 31/35\n",
      "24739/24739 [==============================] - 77s 3ms/step - loss: 0.0011 - acc: 0.9998\n",
      "Epoch 32/35\n",
      "24739/24739 [==============================] - 76s 3ms/step - loss: 1.6256e-04 - acc: 1.0000\n",
      "Epoch 33/35\n",
      "24739/24739 [==============================] - 77s 3ms/step - loss: 6.8207e-05 - acc: 1.0000\n",
      "Epoch 34/35\n",
      "24739/24739 [==============================] - 77s 3ms/step - loss: 4.4838e-05 - acc: 1.0000\n",
      "Epoch 35/35\n",
      "12608/24739 [==============>...............] - ETA: 38s - loss: 3.4136e-05 - acc: 1.0000Buffered data was truncated after reaching the output size limit."
     ]
    }
   ],
   "source": [
    "train(X, y, 35)"
   ]
  },
  {
   "cell_type": "code",
   "execution_count": null,
   "metadata": {},
   "outputs": [],
   "source": [
    "def train(X_aug, y_aug, epochs = 40):\n",
    "  i = 1\n",
    "  for train_index, test_index in kf.split(X_aug):\n",
    "    if i < 4:\n",
    "      i += 1\n",
    "      continue\n",
    "    print(\"Cross Valid: \" + str(i))\n",
    "    model = create_model()\n",
    "    model.fit(X_aug[train_index], y_aug[train_index], epochs = epochs, batch_size = 64, verbose = 0)\n",
    "    y_pred = model.predict(X_aug[test_index])\n",
    "    y_pred = [1 * (x[0]>=0.5) for x in y_pred]\n",
    "    print(confusion_matrix(y_aug[test_index], y_pred))\n",
    "    gc.collect()\n",
    "    i += 1"
   ]
  },
  {
   "cell_type": "code",
   "execution_count": 30,
   "metadata": {
    "colab": {
     "base_uri": "https://localhost:8080/",
     "height": 119
    },
    "colab_type": "code",
    "id": "uKJG_DJcnR_y",
    "outputId": "2bbe9b63-f901-4c70-8e50-4ec2cf14e43c"
   },
   "outputs": [
    {
     "name": "stdout",
     "output_type": "stream",
     "text": [
      "Cross Valid: 4\n",
      "[[3140    0]\n",
      " [   3 3042]]\n",
      "Cross Valid: 5\n",
      "[[3046    4]\n",
      " [   2 3132]]\n"
     ]
    }
   ],
   "source": [
    "train(X, y, 35)"
   ]
  },
  {
   "cell_type": "code",
   "execution_count": 0,
   "metadata": {
    "colab": {},
    "colab_type": "code",
    "id": "hSWofbVUgzwl"
   },
   "outputs": [],
   "source": []
  }
 ],
 "metadata": {
  "accelerator": "TPU",
  "colab": {
   "name": "Untitled16.ipynb",
   "provenance": []
  },
  "kernelspec": {
   "display_name": "Python 3",
   "language": "python",
   "name": "python3"
  },
  "language_info": {
   "codemirror_mode": {
    "name": "ipython",
    "version": 3
   },
   "file_extension": ".py",
   "mimetype": "text/x-python",
   "name": "python",
   "nbconvert_exporter": "python",
   "pygments_lexer": "ipython3",
   "version": "3.7.4"
  }
 },
 "nbformat": 4,
 "nbformat_minor": 1
}
